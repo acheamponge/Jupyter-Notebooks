{
 "cells": [
  {
   "cell_type": "code",
   "execution_count": 5,
   "metadata": {
    "collapsed": true
   },
   "outputs": [],
   "source": [
    "import requests\n",
    "import csv\n",
    "from functools import partial\n",
    "from itertools import chain\n",
    "from collections import defaultdict\n",
    "import os\n",
    "import re\n",
    "import json\n",
    "from datetime import datetime\n",
    "\n",
    "\n",
    "baseurl = 'https://api.pcb.ng/api/'\n",
    "\n",
    "def get_auth_token():\n",
    "    r = requests.post(baseurl + '/auth/tokens', json={'email':'dev@pcb.ng', 'password':'password'})\n",
    "    r.raise_for_status()\n",
    "    return r.json()['token']\n",
    "\n",
    "def download_json(token, urlpath):\n",
    "    r = requests.get(baseurl + urlpath, headers={'authorization': 'Token ' + token})\n",
    "    r.raise_for_status()\n",
    "    return r.json()\n",
    "\n",
    "def get_cached_json(token, cache_path, urlpath):\n",
    "    if not os.path.exists(cache_path):\n",
    "        os.makedirs(cache_path)\n",
    "    clean_path = re.sub(r'[^a-zA-Z0-9_.]', '', urlpath)\n",
    "    fname = os.path.join(cache_path, clean_path + '.json')\n",
    "    if os.path.exists(fname):\n",
    "        with open(fname, 'r') as f:\n",
    "            return json.load(f)\n",
    "    else:\n",
    "        obj = download_json(token, urlpath)\n",
    "        with open(fname, 'w') as f:\n",
    "            json.dump(obj, f)\n",
    "        return obj\n",
    "\n",
    "def per_user(objs, oid_to_uid=dict()):\n",
    "    d = defaultdict(list)\n",
    "    for obj in objs:\n",
    "        if obj:\n",
    "            uid = obj.get('user_id', None) or oid_to_uid.get(obj['id'], None)\n",
    "            if uid:\n",
    "                d[uid].append(obj)\n",
    "    return d\n",
    "\n",
    "def join_on_id(objs, other):\n",
    "    obj_by_id = {o['id']: o for o in objs}\n",
    "    user_id_by_obj_id = dict()\n",
    "    for uid, others in other.iteritems():\n",
    "        for o in others:\n",
    "            user_id_by_obj_id[o['id']] = o['user_id']\n",
    "    d = defaultdict(list)\n",
    "    for obj in objs:\n",
    "        if obj:\n",
    "            uid = user_id_by_obj_id.get(obj['id'], None)\n",
    "            if uid:\n",
    "                d[uid].append(obj)\n",
    "    return d \n",
    "\n",
    "def count(seq):\n",
    "    return len(list(seq))\n",
    "\n",
    "def pct(total, seq):\n",
    "    c = count(seq)\n",
    "    p = round(100.0*c/float(total), 1)\n",
    "    return str(c) + '  (' + str(p) + '%)'\n"
   ]
  },
  {
   "cell_type": "code",
   "execution_count": 3,
   "metadata": {
    "collapsed": true
   },
   "outputs": [],
   "source": [
    "x = {'a': 1, 'b': 2}\n",
    "y = {'b': 3, 'c': 4}\n",
    "\n",
    "a = x.update(y)\n",
    "a"
   ]
  },
  {
   "cell_type": "code",
   "execution_count": null,
   "metadata": {
    "collapsed": true
   },
   "outputs": [],
   "source": []
  },
  {
   "cell_type": "code",
   "execution_count": null,
   "metadata": {
    "collapsed": true
   },
   "outputs": [],
   "source": []
  }
 ],
 "metadata": {
  "kernelspec": {
   "display_name": "Python 2",
   "language": "python",
   "name": "python2"
  },
  "language_info": {
   "codemirror_mode": {
    "name": "ipython",
    "version": 2
   },
   "file_extension": ".py",
   "mimetype": "text/x-python",
   "name": "python",
   "nbconvert_exporter": "python",
   "pygments_lexer": "ipython2",
   "version": "2.7.13"
  }
 },
 "nbformat": 4,
 "nbformat_minor": 2
}
